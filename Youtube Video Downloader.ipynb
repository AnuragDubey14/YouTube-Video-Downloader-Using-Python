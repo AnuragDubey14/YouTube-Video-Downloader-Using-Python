{
 "cells": [
  {
   "cell_type": "markdown",
   "id": "18e3f15c",
   "metadata": {},
   "source": [
    "# YouTube Video Downloader Using Python"
   ]
  },
  {
   "cell_type": "markdown",
   "id": "34a389d5",
   "metadata": {},
   "source": [
    "### Importing Required Library"
   ]
  },
  {
   "cell_type": "code",
   "execution_count": null,
   "id": "b59480fe",
   "metadata": {},
   "outputs": [],
   "source": [
    "#Import Required Library\n",
    "from tkinter import *\n",
    "from pytube import YouTube"
   ]
  },
  {
   "cell_type": "markdown",
   "id": "53b49ea0",
   "metadata": {},
   "source": [
    "### Create Display Window"
   ]
  },
  {
   "cell_type": "code",
   "execution_count": null,
   "id": "6c7f46f8",
   "metadata": {},
   "outputs": [],
   "source": [
    "root = Tk() \n",
    "root.geometry('2000x2000') \n",
    "root.resizable(500,300)  \n",
    "root.title(\"Youtube Video Downloader Using Python\") \n",
    "root.configure(bg='palegreen1')"
   ]
  },
  {
   "cell_type": "code",
   "execution_count": null,
   "id": "2ec8d12b",
   "metadata": {},
   "outputs": [],
   "source": [
    "Label(root,text = 'Welcome to YouTube Video Downloader ', font ='algebrian 30 bold',bg='salmon').pack()"
   ]
  },
  {
   "cell_type": "markdown",
   "id": "c31e4635",
   "metadata": {},
   "source": [
    "### Create Field to Enter Link"
   ]
  },
  {
   "cell_type": "code",
   "execution_count": null,
   "id": "2f2b8cc2",
   "metadata": {},
   "outputs": [],
   "source": [
    "link = StringVar()\n",
    "Label(root,text = 'Paste Your Link Below:', font = 'calibre 20 bold').place(x= 500 , y = 300)\n",
    "link_enter = Entry(root, width = 42,textvariable = link,font='calibre 10 normal').place(x = 500, y = 350)\n"
   ]
  },
  {
   "cell_type": "markdown",
   "id": "d46822fe",
   "metadata": {},
   "source": [
    "### Create Function to Start Downloading"
   ]
  },
  {
   "cell_type": "code",
   "execution_count": null,
   "id": "83dbe738",
   "metadata": {},
   "outputs": [],
   "source": [
    "def Downloader():     \n",
    "    url =YouTube(str(link.get()))\n",
    "    video = url.streams.get_highest_resolution()\n",
    "    video.download()\n",
    "    Label(root, text = 'Downloaded Sucessfully', font = 'calibre 15',bg='Grey').place(x= 580 , y = 380)\n",
    "Button(root,text = 'DOWNLOAD', font = 'calibre 15 bold' ,bg = '#ffb3fe',fg='white', padx = 2, command = Downloader).place(x=550 ,y = 400)\n",
    "Button(root,text = 'Exit', font = 'calibre 15 bold' ,bg = '#ffb3fe',fg='white', padx = 2, command = root.destroy).place(x=700 ,y = 400)\n",
    "root.mainloop()"
   ]
  }
 ],
 "metadata": {
  "kernelspec": {
   "display_name": "Python 3 (ipykernel)",
   "language": "python",
   "name": "python3"
  },
  "language_info": {
   "codemirror_mode": {
    "name": "ipython",
    "version": 3
   },
   "file_extension": ".py",
   "mimetype": "text/x-python",
   "name": "python",
   "nbconvert_exporter": "python",
   "pygments_lexer": "ipython3",
   "version": "3.11.1"
  }
 },
 "nbformat": 4,
 "nbformat_minor": 5
}
